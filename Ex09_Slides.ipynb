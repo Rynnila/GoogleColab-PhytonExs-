{
  "nbformat": 4,
  "nbformat_minor": 0,
  "metadata": {
    "colab": {
      "provenance": [],
      "authorship_tag": "ABX9TyNxu7eOAgFUzEwsw4B/oGd/",
      "include_colab_link": true
    },
    "kernelspec": {
      "name": "python3",
      "display_name": "Python 3"
    },
    "language_info": {
      "name": "python"
    }
  },
  "cells": [
    {
      "cell_type": "markdown",
      "metadata": {
        "id": "view-in-github",
        "colab_type": "text"
      },
      "source": [
        "<a href=\"https://colab.research.google.com/github/Rynnila/GoogleColab-PhytonExs-/blob/main/Ex09_Slides.ipynb\" target=\"_parent\"><img src=\"https://colab.research.google.com/assets/colab-badge.svg\" alt=\"Open In Colab\"/></a>"
      ]
    },
    {
      "cell_type": "markdown",
      "source": [
        "9) Desenhe um fluxograma e implemente o programa em Python que leia três números reais, calcula a média aritmética e mostre o resultado.\n",
        "-- Média Aritmética = n1 + n2 + n3 / 3"
      ],
      "metadata": {
        "id": "4vcm5BU5FWF9"
      }
    },
    {
      "cell_type": "code",
      "source": [
        "n1 = float(input(\"Digite o primeiro valor: \"))\n",
        "n2 = float(input(\"Digite o segundo valor: \"))\n",
        "n3 = float(input(\"Digite o terceiro valor: \"))\n",
        "m = (n1+n2+n3)/3\n",
        "\n",
        "print(\"A média aritmética dos número inseridos é: %f\" %m, \"\\n\")\n",
        "print(\"A operação feita foi: (%.2f+%.2f+%.2f)/3 = %.2f\" %(n1,n2,n3,m))\n"
      ],
      "metadata": {
        "id": "E_kF77Lt_Ofb"
      },
      "execution_count": null,
      "outputs": []
    },
    {
      "cell_type": "markdown",
      "source": [
        "10) Desenhe um fluxograma e implemente o programa em Python que leia três números reais, calcula a média ponderada e mostre o resultado.\n",
        "Média Aritmética = n1 . 2 + n2 .3 + n3 . 5 / 10"
      ],
      "metadata": {
        "id": "3HwiAefYFI3C"
      }
    },
    {
      "cell_type": "code",
      "source": [
        "n1 = float(input(\"Digite o primeiro valor: \"))\n",
        "n2 = float(input(\"Digite o segundo valor: \"))\n",
        "n3 = float(input(\"Digite o terceiro valor: \"))\n",
        "m = ((n1*2)+(n2*3)+(n3*5))/10\n",
        "\n",
        "print(\"A média aritmética dos número inseridos é: %f\" %m, \"\\n\")\n",
        "print(\"A operação feita foi: ((%.2f*2)+(%.2f*3)+(%.2f*5))/10 = %.2f\" %(n1,n2,n3,m))"
      ],
      "metadata": {
        "id": "JDWWAz0gFRgo"
      },
      "execution_count": null,
      "outputs": []
    },
    {
      "cell_type": "markdown",
      "source": [
        "11) Desenhe um fluxograma e implemente o programa em\n",
        "Python que leia dois números inteiros (X e Y), calcule conforme a\n",
        "fórmula a seguir e mostre o resultado:\n",
        "Fórmula = (-X) + [ (Y-X) +(-Y) . (X)] + 20\n"
      ],
      "metadata": {
        "id": "SAtfi5wJG2vq"
      }
    },
    {
      "cell_type": "code",
      "source": [
        "x = int(input(\"Insira o valor de x: \"))\n",
        "y= int(input(\"Insira o valor de y: \"))\n",
        "r= (-x) + ( (y-x) + (-y) *x ) + 20\n",
        "\n",
        "print(\"A operação de (-%d) + [(%d-%d) + (-%d) . (%d)] + 20 = %d\" %(x, y, x, y, x, r))"
      ],
      "metadata": {
        "id": "eZLoD3WIHNle"
      },
      "execution_count": null,
      "outputs": []
    },
    {
      "cell_type": "markdown",
      "source": [
        "14\n",
        ") Escreva um programa em Python\n",
        "e desenhe um fluxograma\n",
        "que converta para\n",
        "a base 10 um número natural não nulo de três\n",
        "dígitos denominado\n",
        "X na forma X=x\n",
        "1\n",
        "x\n",
        "2\n",
        "x\n",
        "3 escrito na base\n",
        "B (B\n",
        "é um número inteiro maior que\n",
        "1\n",
        "e menor que 10\n",
        ")\n",
        ". Por exemplo,\n",
        "se\n",
        "X\n",
        "= 314\n",
        "e\n",
        "B\n",
        "=\n",
        "7 isto significa que\n",
        "o número\n",
        "é composto pelos\n",
        "dígitos\n",
        "x\n",
        "1\n",
        "=\n",
        "3\n",
        ",\n",
        "x\n",
        "2\n",
        "=\n",
        "1\n",
        "e\n",
        "x\n",
        "3\n",
        "=\n",
        "4\n",
        ",\n",
        "e que está escrito na base\n",
        "7\n",
        ". Para\n",
        "converter esse número para\n",
        "a base 10 basta calcular\n",
        ":\n",
        "3\n",
        "x\n",
        "7\n",
        "2\n",
        "+\n",
        "1\n",
        "x\n",
        "7\n",
        "1\n",
        "+\n",
        "4\n",
        "X\n",
        "7\n",
        "0\n",
        "= 158\n",
        ". Outro exemplo, se\n",
        "X\n",
        "= 085\n",
        "e\n",
        "B\n",
        "=\n",
        "9 isto significa\n",
        "que\n",
        "o número\n",
        "é composto pelos dígitos\n",
        "x\n",
        "1\n",
        "=\n",
        "0\n",
        ",\n",
        "x\n",
        "2\n",
        "=\n",
        "8\n",
        "e\n",
        "x\n",
        "3\n",
        "=\n",
        "5\n",
        ",\n",
        "e que\n",
        "está escrito na base\n",
        "9\n",
        ". Para converter esse número para\n",
        "a base\n",
        "10 basta calcular\n",
        ":\n",
        "0\n",
        "x\n",
        "9\n",
        "2\n",
        "+\n",
        "8\n",
        "x\n",
        "9\n",
        "1\n",
        "+\n",
        "5\n",
        "X\n",
        "9\n",
        "0\n",
        "= 77\n",
        "."
      ],
      "metadata": {
        "id": "XjzUxXcdKesa"
      }
    },
    {
      "cell_type": "code",
      "source": [
        "n= int(input(\"Digite um numero natural não nulo de três digitos: \"))\n",
        "b = int(input(\"Digite a base, um outro número inteiro: \"))\n",
        "\n",
        "n1= n//100\n",
        "r= n%100\n",
        "n2= r//10\n",
        "n3= r%10\n",
        "\n",
        "c= (n1*b**2)+(n2*b)+n3\n",
        "print(\"A operação de (%d * %d^2) + (%d * %d^1) + (%d * %d^0) = %d\" %(n1, b, n2, b, n3, b, c)) "
      ],
      "metadata": {
        "id": "jvtEetkAK0ry"
      },
      "execution_count": null,
      "outputs": []
    },
    {
      "cell_type": "code",
      "source": [
        "A= float(input())\n",
        "B= float(input())\n",
        "\n",
        "media= ((A*3.5)+(B*7.5))/11\n",
        "\n",
        "print(\"MEDIA = %.5f\" %media)"
      ],
      "metadata": {
        "id": "-v-b51kcszyI"
      },
      "execution_count": null,
      "outputs": []
    },
    {
      "cell_type": "code",
      "source": [
        "prod1=input()\n",
        "prod2=input()\n",
        "lista1=prod1.split(\" \")\n",
        "lista2=prod2.split(\" \")\n",
        "\n",
        "\n",
        "preço1= float(lista1[2])\n",
        "qtd1= int(lista1[1])\n",
        "preço2= float(lista2[2])\n",
        "qtd2= int(lista2[1])\n",
        "valor= (preço1*qtd1)+(preço2*qtd2)\n",
        "\n",
        "print(\"Valor a pagar: R$ %.2f\" %valor)"
      ],
      "metadata": {
        "id": "73_YP2XCJGgD"
      },
      "execution_count": null,
      "outputs": []
    },
    {
      "cell_type": "code",
      "source": [
        "nfunc= int(input())\n",
        "hr= int(input())\n",
        "valorhr= float(input())\n",
        "\n",
        "salario= hr*valorhr\n",
        "print(\"NUMBER = %d\\nSALARY = U$ %.2f\" %(nfunc, salario))"
      ],
      "metadata": {
        "id": "q112Tc3QQtbv"
      },
      "execution_count": null,
      "outputs": []
    },
    {
      "cell_type": "code",
      "source": [
        "nome= input()\n",
        "salario= float(input())\n",
        "vendas=float(input())\n",
        "\n",
        "total= salario+vendas*0.15\n",
        "\n",
        "print(\"TOTAL = R$ %.2f\" %total)\n"
      ],
      "metadata": {
        "id": "K08YqXHBZL46"
      },
      "execution_count": null,
      "outputs": []
    },
    {
      "cell_type": "markdown",
      "source": [
        "Aula de condicional -- 02/03"
      ],
      "metadata": {
        "id": "3hpxlr-Wb5or"
      }
    },
    {
      "cell_type": "code",
      "source": [
        "n1= int(input(\"Digite o primeiro valor: \"))\n",
        "n2= int(input(\"Digite o primeiro valor: \"))\n",
        "\n",
        "if n1 > n2:\n",
        "  print(\"maior valor = %d\" %n1)\n",
        "else:\n",
        "  print(\"maior valor = %d\" %n2)"
      ],
      "metadata": {
        "id": "03o6eDFib3hs"
      },
      "execution_count": null,
      "outputs": []
    },
    {
      "cell_type": "code",
      "source": [
        "raio = float(input())\n",
        "volume= (4.0/3)* 3.14159*raio**3\n",
        "\n",
        "print(\"VOLUME = %.3f\" %volume)"
      ],
      "metadata": {
        "id": "1wNtsgwmdkt7"
      },
      "execution_count": null,
      "outputs": []
    },
    {
      "cell_type": "markdown",
      "source": [
        "Desenhe um fluxograma e implemente um programa\n",
        "em Python que recebe um número inteiro e informe se\n",
        "é par ou ímpar.\n",
        "\n"
      ],
      "metadata": {
        "id": "aENomOiOhjBM"
      }
    },
    {
      "cell_type": "code",
      "source": [
        "n= int(input())\n",
        "\n",
        "if n%2 !=0:\n",
        "  print(\"Numero ímpar\")\n",
        "else:\n",
        "  print(\"Número par\")"
      ],
      "metadata": {
        "id": "PtmGFndMhnYc"
      },
      "execution_count": null,
      "outputs": []
    },
    {
      "cell_type": "markdown",
      "source": [
        "Desenhe um fluxograma e implemente um programa\n",
        "em Python que recebe dois números reais e informa se\n",
        "são iguais. Caso sejam diferentes, informe qual é o\n",
        "maior e qual é o menor."
      ],
      "metadata": {
        "id": "2jVpmCrTjc4c"
      }
    },
    {
      "cell_type": "code",
      "source": [
        "n1= float(input())\n",
        "n2= float(input())\n",
        "\n",
        "if n1==n2:\n",
        "  print(\"Os números são iguais\")\n",
        "elif n1>n2:\n",
        "  print(\"Maior número = %.2f\" %n1)\n",
        "else:\n",
        "    print(\"Maior número = %.2f\" %n2)"
      ],
      "metadata": {
        "id": "6y4MBbKijcYd"
      },
      "execution_count": null,
      "outputs": []
    },
    {
      "cell_type": "markdown",
      "source": [
        "Desenhe um fluxograma e implemente um programa\n",
        "em Python que recebe um número real e informe se é\n",
        "igual a zero, número positivo ou negativo."
      ],
      "metadata": {
        "id": "tLI4xFAvlnJN"
      }
    },
    {
      "cell_type": "code",
      "source": [
        "n = float(input())\n",
        "if n==0:\n",
        "  print(n, \" = 0 -- IGUAL A ZERO\")\n",
        "elif n/1>0:\n",
        "  print(n, \" > 0 -- POSITIVO\")\n",
        "else:\n",
        "  print(n, \" < 0 -- NEGATIVO\")"
      ],
      "metadata": {
        "colab": {
          "base_uri": "https://localhost:8080/"
        },
        "id": "vlSf54C2loOc",
        "outputId": "45b1c960-a47f-4476-8c0d-a138464e817a"
      },
      "execution_count": null,
      "outputs": [
        {
          "output_type": "stream",
          "name": "stdout",
          "text": [
            "-9\n",
            "-9.0  < 0\n"
          ]
        }
      ]
    },
    {
      "cell_type": "markdown",
      "source": [
        "Desenhe um fluxograma e implemente um programa\n",
        "em Python que recebe quatro números reais e informe\n",
        "se há algum repetido ou não."
      ],
      "metadata": {
        "id": "MBvEbUNIq9RR"
      }
    },
    {
      "cell_type": "code",
      "source": [
        "n1= float(input())\n",
        "n2= float(input())\n",
        "n3= float(input())\n",
        "n4= float(input())\n",
        "\n",
        "if (n1==n2 or n1==n3 or n1==n4) or (n2==n3 or n2==n4) or (n3==n4):\n",
        "  print(\"Há números repetidos\")\n",
        "else:\n",
        "  print(\"Não há números repetidos\")\n",
        "  "
      ],
      "metadata": {
        "id": "9ekLujE0q-Nh"
      },
      "execution_count": null,
      "outputs": []
    },
    {
      "cell_type": "markdown",
      "source": [
        "Calculo de IMC, aperte 0 em peso para um 'break'"
      ],
      "metadata": {
        "id": "SFxpIfv1ryb9"
      }
    },
    {
      "cell_type": "code",
      "source": [
        "conta=1\n",
        "while conta<=10:\n",
        "\tpeso=float(input(\"Peso: \"))\n",
        "\tif peso==0:\n",
        "\t\tbreak\n",
        "\taltura=float(input(\"Altura: \"))\n",
        "\timc=peso/(altura**2)\n",
        "\tconta+=1 \n",
        "\tprint(\"IMC = %.2f\" %imc)"
      ],
      "metadata": {
        "colab": {
          "base_uri": "https://localhost:8080/"
        },
        "id": "K7Cv562gkL9f",
        "outputId": "3fe81689-2724-4789-e09a-ed4d624c777d"
      },
      "execution_count": null,
      "outputs": [
        {
          "name": "stdout",
          "output_type": "stream",
          "text": [
            "Peso: 66\n",
            "Altura: 1.2\n",
            "IMC = 45.83\n",
            "Peso: 0\n"
          ]
        }
      ]
    },
    {
      "cell_type": "markdown",
      "source": [
        "1) Gerar e mostrar números inteiros ímpares de 2001 a 501"
      ],
      "metadata": {
        "id": "Yb89mpYwubOD"
      }
    },
    {
      "cell_type": "code",
      "source": [
        "i=2001\n",
        "while i>=501:\n",
        "  if i%2!=0:\n",
        "    print(\"%d é um número ímpar\" %i)\n",
        "  i-=1"
      ],
      "metadata": {
        "id": "k837wfLeuaoP"
      },
      "execution_count": null,
      "outputs": []
    },
    {
      "cell_type": "markdown",
      "source": [
        "2) Gerar e mostrar os seguntes números:\n",
        "5000.0 - 2500.0 - 1250.0 - 625.0 - 312.5 - 156.3 - 78.1 - 39.1 - 19.1 - 9.8"
      ],
      "metadata": {
        "id": "-A5o8lfuxlCt"
      }
    },
    {
      "cell_type": "code",
      "source": [
        "i=10000\n",
        "while i>=10:\n",
        "  i=i/2\n",
        "  print(\"%.1f\" %i)"
      ],
      "metadata": {
        "id": "Np2ZasV5x9EF"
      },
      "execution_count": null,
      "outputs": []
    },
    {
      "cell_type": "markdown",
      "source": [
        "5.  Faça um programa que leia 6 valores informados pelo usuário, calcule, exiba os números informados e escreva a média aritmética desses valores lidos."
      ],
      "metadata": {
        "id": "GPQK-F9k0IlD"
      }
    },
    {
      "cell_type": "code",
      "source": [
        "print (\"Digite 6 números diferentes\")\n",
        "aux=0\n",
        "i=1\n",
        "while i<7:\n",
        "  numero=int(input(\"Digite o valor do nº%d: \"%i))\n",
        "  aux+=numero\n",
        "  i+=1\n",
        "print(\"A média dos números inseridos foi igual a: \", aux/6)"
      ],
      "metadata": {
        "id": "V4HbbP-D0WX5"
      },
      "execution_count": null,
      "outputs": []
    },
    {
      "cell_type": "markdown",
      "source": [
        "Função 1 - Soma"
      ],
      "metadata": {
        "id": "ODsOszRgmQiR"
      }
    },
    {
      "cell_type": "code",
      "source": [
        "def soma():\n",
        "  s=1+1\n",
        "  c=1\n",
        "  while c<=10:\n",
        "    s=s+1/c\n",
        "    c=c+1\n",
        "  return s\n",
        "print (soma())"
      ],
      "metadata": {
        "id": "OZh30gkCmVu5"
      },
      "execution_count": null,
      "outputs": []
    },
    {
      "cell_type": "markdown",
      "source": [
        "Função 2 - Tabuada"
      ],
      "metadata": {
        "id": "E2GE2U1zmfPf"
      }
    },
    {
      "cell_type": "code",
      "source": [
        "def tabuada(n):\n",
        "  i=0\n",
        "  j=10\n",
        "  while j>=0:\n",
        "    print(\"%d * %d = %d\"%(n,j,(n*j)))\n",
        "    j-=1\n",
        "num = int(input())\n",
        "tabuada(num)"
      ],
      "metadata": {
        "id": "o5endhjkme3p"
      },
      "execution_count": null,
      "outputs": []
    },
    {
      "cell_type": "markdown",
      "source": [
        "Matriz 1 - Notas"
      ],
      "metadata": {
        "id": "YUmrRjB7mo14"
      }
    },
    {
      "cell_type": "code",
      "source": [
        "notas = [0.0]*10\n",
        "soma = 0.0\n",
        "i=0\n",
        "\n",
        "while i<len(notas):\n",
        "  notas[i] = float(input(\"Digite a Nota do %d aluno: \" %(i+1)))\n",
        "  soma = soma + notas[i]\n",
        "  i+=1\n",
        "\n",
        "media = soma / len(notas)\n",
        "print(\"A media da turma é %.1f\" %media)"
      ],
      "metadata": {
        "id": "rk8YqQBimyNg"
      },
      "execution_count": null,
      "outputs": []
    },
    {
      "cell_type": "markdown",
      "source": [
        "Matriz 2 - Notas com o range"
      ],
      "metadata": {
        "id": "YKdWj4Tzm9tv"
      }
    },
    {
      "cell_type": "code",
      "source": [
        "notas = [0.0]*10\n",
        "soma = 0.0\n",
        "i=0\n",
        "\n",
        "for i in range(len(notas)):\n",
        "  notas[i] = float(input(\"Digite a Nota do %d aluno: \" %(i+1)))\n",
        "  soma = soma + notas[i]\n",
        "  i+=1\n",
        "\n",
        "media = soma / len(notas)\n",
        "print(\"A media da turma é %.1f\" %media)\n"
      ],
      "metadata": {
        "id": "Ie--X5O_nAMW"
      },
      "execution_count": null,
      "outputs": []
    },
    {
      "cell_type": "markdown",
      "source": [
        "Matriz 2 - com o range, mas de uma outra forma"
      ],
      "metadata": {
        "id": "_FQsREYcnsAX"
      }
    },
    {
      "cell_type": "code",
      "source": [
        "notas = [0.0]*5\n",
        "soma = 0.0\n",
        "\n",
        "for i in range(len(notas)):\n",
        "  notas[i] = float(input(\"Digite a nota do %d aluno: \" % (i+1)))\n",
        "  soma = soma + notas[i]\n",
        "\n",
        "media = soma /len(notas)\n",
        "print(\"A média da turma é %.1f\" % media)"
      ],
      "metadata": {
        "id": "3e1q1KA5nst_"
      },
      "execution_count": null,
      "outputs": []
    },
    {
      "cell_type": "markdown",
      "source": [
        "Matriz 3 - Usando o append para inserir elementos na matriz"
      ],
      "metadata": {
        "id": "l9Y53OnMn3a6"
      }
    },
    {
      "cell_type": "code",
      "source": [
        "notas = []\n",
        "valor = float(input(\"Nota?\"))\n",
        "while valor > 0:\n",
        "  notas.append(valor)\n",
        "  valor = float(input(\"Notas?\"))\n",
        "print(notas)"
      ],
      "metadata": {
        "id": "-7rQ1NwEn5Ri"
      },
      "execution_count": null,
      "outputs": []
    },
    {
      "cell_type": "markdown",
      "source": [
        "Mostra e acrescenta na matriz"
      ],
      "metadata": {
        "id": "W_YeemepoOgP"
      }
    },
    {
      "cell_type": "code",
      "source": [
        "notas = [0.0]*10\n",
        "for i in range(len(notas)):\n",
        "  notas[i] = float(input(\"Digite a Nota: \"))\n",
        "  print(notas)\n",
        "\n",
        "i=9\n",
        "while i >= 0:\n",
        "  print(notas[i])\n",
        "  i-=1\n"
      ],
      "metadata": {
        "id": "O6-JOXZqoND3"
      },
      "execution_count": null,
      "outputs": []
    },
    {
      "cell_type": "markdown",
      "source": [
        "Exercício da prova"
      ],
      "metadata": {
        "id": "SqXBKpJ7iqFB"
      }
    },
    {
      "cell_type": "code",
      "source": [
        "lista = []\n",
        "i=0\n",
        "\n",
        "while i<10:\n",
        "  lista.append(int(input(\"Digite um valor \")))\n",
        "  while (lista[i]<=0):\n",
        "    lista[i]=int(input(\"Digite um valor positivo \"))\n",
        "  i+=1\n",
        "print(\"índices dos elementos pares\")\n",
        "for i in range(len(lista)):\n",
        "  if(lista[i]%2==0):\n",
        "    print(\"%d\" %i, end =\"\\t\")\n",
        "  i+=1"
      ],
      "metadata": {
        "id": "GK4xN2-zi4Z1"
      },
      "execution_count": null,
      "outputs": []
    },
    {
      "cell_type": "markdown",
      "source": [
        "Estrutura do range"
      ],
      "metadata": {
        "id": "PUsS7Cn7lwXB"
      }
    },
    {
      "cell_type": "code",
      "source": [
        "lista = []\n",
        "n=int(input(\"Digite um valor inteiro e zero para encerrar a leitura \"))\n",
        "while n!=0:\n",
        "\tlista.append(n)\n",
        "\tn=int(input(\"Digite um valor inteiro e zero para encerrar a leitura \"))\n",
        "print(\"Elementos dos índices ímpares\")\n",
        "for i in range(1, len(lista),2):\n",
        "\tprint(\"%d\" %lista[i], end=\"\\t\")\n",
        " \n",
        "print(\"\\nSomatória dos números ímpares \", end=\"\\t\")\n",
        "soma = 0\n",
        "for i in range(len(lista)):\n",
        "\tif lista[i]%2==1:\n",
        "\t  soma = soma + lista[i]\n",
        "print(soma)"
      ],
      "metadata": {
        "id": "DKySqf_jlFy7"
      },
      "execution_count": null,
      "outputs": []
    },
    {
      "cell_type": "code",
      "source": [
        "lista = [0.0]*10\n",
        "i=0\n",
        "\n",
        "while i<10:\n",
        "\tlista[i]=int(input(\"Digite um valor \"))\n",
        "\tif lista[i]<=0:\n",
        "\t\tprint(\"Digite um valor positivo \")\n",
        "\t\tcontinue\n",
        "\ti+=1\n",
        "\n",
        "print(\"índices dos elementos pares\")\n",
        "for i in range(len(lista)):\n",
        "\tif(lista[i]%2==0):\n",
        "\t\tprint(\"%d\" %i, end=\"\\t\")"
      ],
      "metadata": {
        "id": "xDtrKH3T3QZ0"
      },
      "execution_count": null,
      "outputs": []
    },
    {
      "cell_type": "markdown",
      "source": [
        "Break"
      ],
      "metadata": {
        "id": "jhi7T49G724P"
      }
    },
    {
      "cell_type": "code",
      "source": [
        "notas = [0.0]*9\n",
        "i=0\n",
        "while i<9:\n",
        "  notas[i]=float(input(\"Insira uma nota \"))\n",
        "  i+=1\n",
        "num=float(input(\"Insira a nota que deseja encontrar \"))\n",
        "i=0\n",
        "while i<len(notas):\n",
        "\tif notas[i]==num:\n",
        "\t\tbreak\n",
        "\ti+=1\n",
        "if i<len(notas):\n",
        "\tprint(\"Valor igual a %f foi encontrado pela primeira vez no índice %d\" %(num,i))\n",
        "else:\n",
        "\tprint(\"Valor não encontrado na lista\")"
      ],
      "metadata": {
        "id": "Aan9wtud6ZPB"
      },
      "execution_count": null,
      "outputs": []
    },
    {
      "cell_type": "markdown",
      "source": [
        "lista a, b e c"
      ],
      "metadata": {
        "id": "dug3WSFtBKmA"
      }
    },
    {
      "cell_type": "code",
      "source": [
        "import random\n",
        "\n",
        "listaA = []*10\n",
        "listaB = []*10\n",
        "listaC = []*10\n",
        "i=0\n",
        "\n",
        "while i<10:\n",
        "\tlistaA.append(random.randint(0,100))\n",
        "\tlistaB.append(random.randint(0,100))\n",
        "\tlistaC[i]= listaA[i]+listaB[i]\n",
        "  \n",
        "print(\"Lista 3 pares\")\n",
        "for i in range(len(listaC)):\n",
        "\t\tprint(\"%d + %d = %d\" %(listaA[i], listaB[i], listaC[i]), end=\"\\t\")"
      ],
      "metadata": {
        "id": "FPPQI_OwBNe1"
      },
      "execution_count": null,
      "outputs": []
    },
    {
      "cell_type": "markdown",
      "source": [
        "Implemente uma função que deve receber por parâmetro a quantidade de linhas e colunas de uma matriz, gerar e retorná-la. Os elementos da matriz devm ser lidos via teclado.\n"
      ],
      "metadata": {
        "id": "0ZPm2vvcj20i"
      }
    },
    {
      "cell_type": "code",
      "source": [
        "def gerarMatriz1(linhas, colunas):\n",
        "  matriz=[0.0]*linhas\n",
        "  for l in range(linhas):\n",
        "    matriz[l]=[0.0]*colunas\n",
        "    for c in range(colunas):\n",
        "      matriz[l][c]=float(input(\"Digite um número real \"))\n",
        "  return matriz\n",
        "\n",
        "def main():\n",
        "\tm=gerarMatriz1(4,3)\n",
        "\tprint(m)\n",
        "main()"
      ],
      "metadata": {
        "id": "-Hf58rGXkAGi"
      },
      "execution_count": null,
      "outputs": []
    },
    {
      "cell_type": "markdown",
      "source": [
        "Implemente uma função que deve receber por parâmetro a quantidade de linhas e colunas de uma matriz, gerar e retorná-la. Os elementos da matriz devm ser lidos via teclado.Implemente um função que recebe por parâmetro uma matriz, calcula a média dos elementos de cada linha da matriz e guarda o resultado em uma lista.\n"
      ],
      "metadata": {
        "id": "-nqfhDSKm_ck"
      }
    },
    {
      "cell_type": "code",
      "source": [
        "def somatoria(m):\n",
        "  lista=[]\n",
        "  for l in range(len(m)):\n",
        "    soma=0\n",
        "    for c in range(len(m[l])):\n",
        "      soma=soma+m[l][c]\n",
        "    lista.append(soma)\n",
        "  return(lista)\n",
        "\n",
        "def media(m):\n",
        "  lista = []\n",
        "  for l in range(len(m)):\n",
        "    soma = 0\n",
        "    for c in range(len(m[l])):\n",
        "      soma = soma + m[l][c]\n",
        "    media = soma/len(m[l])\n",
        "    lista.append(media)\n",
        "  return lista\n",
        "\n",
        "def gerarMatriz1(linhas, colunas):\n",
        "  matriz=[0.0]*linhas\n",
        "  for l in range(linhas):\n",
        "    matriz[l]=[0.0]*colunas\n",
        "    for c in range(colunas):\n",
        "      matriz[l][c]=float(input(\"Digite um número real \"))\n",
        "  return matriz\n",
        "\n",
        "def main():\n",
        "  m=gerarMatriz1(4,3)\n",
        "  lista=somatoria(m)\n",
        "  lista=media(m)\n",
        "  print(m)\n",
        "  print(lista)\n",
        "main()"
      ],
      "metadata": {
        "id": "1SFchaPloPbT"
      },
      "execution_count": null,
      "outputs": []
    },
    {
      "cell_type": "markdown",
      "source": [
        "1-- Implemente uma função que recebe um parâmetro que indica a quantidade de linhas e colunas de uma matriz. Esta função gera e retorna uma matriz composta apenas por número inteiros ímpares."
      ],
      "metadata": {
        "id": "udVrTw99zDnS"
      }
    },
    {
      "cell_type": "code",
      "source": [
        "def gerarMatriz(dim):\n",
        "  impar=1\n",
        "  matriz =[0]*dim\n",
        "  for l in range(dim):\n",
        "    matriz[l]=[0] * dim\n",
        "    for c in range(dim):\n",
        "      matriz[l][c]=impar\n",
        "      impar = impar + 2\n",
        "  return matriz\n",
        "\n",
        "def main():\n",
        "  m=gerarMatriz(5)\n",
        "  print(m)\n",
        "\n",
        "main()"
      ],
      "metadata": {
        "id": "ztXQoLvyzKU7",
        "outputId": "e5eab879-3f3a-4601-9577-9e8f66fdfaab",
        "colab": {
          "base_uri": "https://localhost:8080/"
        }
      },
      "execution_count": 15,
      "outputs": [
        {
          "output_type": "stream",
          "name": "stdout",
          "text": [
            "[[1, 3, 5, 7, 9], [11, 13, 15, 17, 19], [21, 23, 25, 27, 29], [31, 33, 35, 37, 39], [41, 43, 45, 47, 49]]\n"
          ]
        }
      ]
    },
    {
      "cell_type": "markdown",
      "source": [
        "2-- Implemente uma função que mostre os elementos que estão na diagonal principal da matriz.\n"
      ],
      "metadata": {
        "id": "KjIm_syczJyW"
      }
    },
    {
      "cell_type": "code",
      "source": [
        "def gerarMatriz(dim):\n",
        "  impar=1\n",
        "  matriz =[0]*dim\n",
        "  for l in range(dim):\n",
        "    matriz[l]=[0] * dim\n",
        "    for c in range(dim):\n",
        "      matriz[l][c]=impar\n",
        "      impar = impar + 2\n",
        "  return matriz\n",
        "\n",
        "def mostrarDiagonalPrincipal(m):\n",
        "  for d in range(len(m)):\n",
        "    print(\"%d\" % m[d][d], end=\"\\t\")\n",
        "\n",
        "def main():\n",
        "  m=gerarMatriz(5)\n",
        "  print(m)\n",
        "  mostrarDiagonalPrincipal(m)\n",
        "\n",
        "main()"
      ],
      "metadata": {
        "id": "I7HKdW95zWDE"
      },
      "execution_count": null,
      "outputs": []
    },
    {
      "cell_type": "markdown",
      "source": [
        "3-- Implemente uma função que mostre os elementos que estão abaixo da diagonal principal."
      ],
      "metadata": {
        "id": "zjnpFPAozWhq"
      }
    },
    {
      "cell_type": "code",
      "source": [],
      "metadata": {
        "id": "-DETpvMBzWxV"
      },
      "execution_count": null,
      "outputs": []
    }
  ]
}